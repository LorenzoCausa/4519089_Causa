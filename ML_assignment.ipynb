{
  "cells": [
    {
      "cell_type": "markdown",
      "metadata": {
        "id": "view-in-github",
        "colab_type": "text"
      },
      "source": [
        "<a href=\"https://colab.research.google.com/github/LorenzoCausa/4519089_Causa/blob/main/ML_assignment.ipynb\" target=\"_parent\"><img src=\"https://colab.research.google.com/assets/colab-badge.svg\" alt=\"Open In Colab\"/></a>"
      ]
    },
    {
      "cell_type": "markdown",
      "metadata": {
        "id": "vT_qcRvgnETh"
      },
      "source": [
        "IMPORT"
      ]
    },
    {
      "cell_type": "code",
      "execution_count": 82,
      "metadata": {
        "id": "8KBOz7bfwvt1"
      },
      "outputs": [],
      "source": [
        "import pandas as pd\n",
        "import numpy as np\n",
        "import matplotlib.pyplot as plt\n",
        "import random\n",
        "from sklearn.svm import SVR\n",
        "from sklearn.model_selection import GridSearchCV\n",
        "from sklearn import preprocessing\n",
        "from sklearn.ensemble import RandomForestClassifier\n",
        "from sklearn.metrics import confusion_matrix\n",
        "from random import sample\n",
        "from sklearn.svm import SVC\n",
        "import math\n",
        "from math import cos,sin,pi\n",
        "from sklearn.ensemble import RandomForestRegressor\n",
        "from sklearn.neural_network import MLPRegressor\n",
        "from sklearn.multioutput import MultiOutputRegressor\n",
        "from sklearn.kernel_ridge import KernelRidge as KRR\n"
      ]
    },
    {
      "cell_type": "markdown",
      "metadata": {
        "id": "LwbCOSf-nGLI"
      },
      "source": [
        "from MATRIX to RPY"
      ]
    },
    {
      "cell_type": "code",
      "execution_count": 83,
      "metadata": {
        "id": "f6f28RebkwAr"
      },
      "outputs": [],
      "source": [
        "def rotationMatrixToEulerAngles(R) :\n",
        "    sy = math.sqrt(R[0,0] * R[0,0] +  R[1,0] * R[1,0])\n",
        "    singular = sy < 1e-6\n",
        "    if  not singular :\n",
        "        x = math.atan2(R[2,1] , R[2,2])\n",
        "        y = math.atan2(-R[2,0], sy)\n",
        "        z = math.atan2(R[1,0], R[0,0])\n",
        "    else :\n",
        "        x = math.atan2(-R[1,2], R[1,1])\n",
        "        y = math.atan2(-R[2,0], sy)\n",
        "        z = 0\n",
        "    return np.array([x, y, z])"
      ]
    },
    {
      "cell_type": "markdown",
      "metadata": {
        "id": "Yw4unc2wnN2j"
      },
      "source": [
        "FORWARD KINEMATIC"
      ]
    },
    {
      "cell_type": "code",
      "execution_count": 84,
      "metadata": {
        "id": "Q7DyfryNwzxT"
      },
      "outputs": [],
      "source": [
        "def dirKin(q1,q2,q3,q4,q5,q6):\n",
        "  global angle_range\n",
        "  l1=0.4\n",
        "  l2=0.75\n",
        "  l3=0.25\n",
        "\n",
        "  d1=0.75\n",
        "  d4=0.8124\n",
        "  d6=0.175\n",
        "\n",
        "  T01 = np.array( [ [cos(q1), 0,  sin(q1),  l1*cos(q1)],\n",
        "                    [sin(q1), 0, -cos(q1),  l1*sin(q1)],\n",
        "                    [0,       1,  0,         d1       ],\n",
        "                    [0,       0,  0,         1        ]])\n",
        "\n",
        "  T12 = np.array( [ [cos(q2), -sin(q2), 0, l2*cos(q2)],\n",
        "                   [sin(q2), cos(q2),  0, l2*sin(q2)],\n",
        "                   [0,       0,        1, 0         ],\n",
        "                   [0,       0,        0, 1         ]])\n",
        "\n",
        "  T23 = np.array( [ [cos(q3), 0,  sin(q3), l3*cos(q3) ],\n",
        "                    [sin(q3), 0, -cos(q3), l3 *sin(q3)],\n",
        "                    [0,       1,  0,       0          ],\n",
        "                    [0,       0,  0,       1          ]])\n",
        "\n",
        "  T34 = np.array( [ [cos(q4), 0, -sin(q4), 0  ],\n",
        "                    [sin(q4), 0,  cos(q4), 0  ],\n",
        "                    [0,      -1,  0,       d4 ],\n",
        "                    [0,       0,  0,       1  ]])\n",
        "\n",
        "  T45 = np.array( [ [cos(q5), 0, sin(q5),  0],\n",
        "                    [sin(q5), 0, -cos(q5), 0],\n",
        "                    [0,       1, 0,        0],\n",
        "                    [0,       0, 0,        1]])\n",
        "\n",
        "  T56 = np.array( [ [cos(q6), -sin(q6), 0, 0  ],\n",
        "                    [sin(q6), cos(q6),  0, 0  ],\n",
        "                    [0,       0,        1, d6 ],\n",
        "                    [0,       0,        0, 1  ]])\n",
        "\n",
        "  T06=np.matmul(np.matmul(np.matmul(np.matmul(np.matmul(T01,T12),T23),T34),T45),T56)\n",
        "\n",
        "  rpy=rotationMatrixToEulerAngles(T06[0:3,0:3])\n",
        "  xyz=T06[0:3,3]\n",
        "  angle_range=pi/2 \n",
        "  #print(T06)\n",
        "  #print(\"-----------\")\n",
        "  #print(\"x,y,z positions: \",xyz)\n",
        "  #print(\"r,p,y orientations: \",rpy)\n",
        "  return np.concatenate((xyz, rpy), axis=0)\n",
        "  "
      ]
    },
    {
      "cell_type": "code",
      "execution_count": 85,
      "metadata": {
        "colab": {
          "base_uri": "https://localhost:8080/"
        },
        "id": "rvgz7KQcnYLp",
        "outputId": "a939609c-e0ef-4c19-987c-689d470d55fb"
      },
      "outputs": [
        {
          "output_type": "stream",
          "name": "stdout",
          "text": [
            "Test\n",
            "[ 1.3874      0.          1.75       -3.14159265 -1.57079633  0.        ]\n"
          ]
        }
      ],
      "source": [
        "print(\"Test\")\n",
        "print(dirKin(0,pi/2,0,0,0,0))"
      ]
    },
    {
      "cell_type": "markdown",
      "metadata": {
        "id": "kTby8Gp0fRSq"
      },
      "source": [
        "GENERATE RANDOM DATASET"
      ]
    },
    {
      "cell_type": "code",
      "execution_count": 86,
      "metadata": {
        "id": "kW3gh0DofWbE"
      },
      "outputs": [],
      "source": [
        "def generate_random_dataset():\n",
        "    global q,xyz,xyzq1,xyzq1q2,xyzq1q2q3,xyzq1q2q3q4,xyzq1q2q3q4q5\n",
        "    q=np.zeros((n,6))\n",
        "    xyz=np.zeros((n,3))\n",
        "    \n",
        "    for i in range(n-1):\n",
        "      q1=angle_range*random.random()-(pi/4)\n",
        "      q[i,0]=q1\n",
        "      q2=angle_range*random.random()\n",
        "      q[i,1]=q2\n",
        "      q3=angle_range*random.random()\n",
        "      q[i,2]=q3\n",
        "      q4=angle_range*random.random()\n",
        "      q[i,3]=q4\n",
        "      q5=angle_range*random.random()\n",
        "      q[i,4]=q5\n",
        "      q6=angle_range*random.random()\n",
        "      q[i,5]=q6\n",
        "    \n",
        "      temp=dirKin(q1,q2,q3,q4,q5,q6)\n",
        "      xyz[i,0]=temp[0]\n",
        "      xyz[i,1]=temp[1]\n",
        "      xyz[i,2]=temp[2]\n",
        "    \n",
        "    # Base configuration\n",
        "    q1=0       \n",
        "    q2=pi/2    \n",
        "    q3=0      \n",
        "    q4=0      \n",
        "    q5=0       \n",
        "    q6=0       \n",
        "    q[n-1,0]=q1\n",
        "    q[n-1,1]=q2\n",
        "    q[n-1,2]=q3\n",
        "    q[n-1,3]=q4\n",
        "    q[n-1,4]=q5\n",
        "    q[n-1,5]=q6\n",
        "    \n",
        "    temp=dirKin(q1,q2,q3,q4,q5,q6)\n",
        "    xyz[n-1,0]=temp[0]\n",
        "    xyz[n-1,1]=temp[1]\n",
        "    xyz[n-1,2]=temp[2]\n",
        "        \n",
        "    temp=q[:,0].reshape(n,1)\n",
        "    xyzq1=np.concatenate((xyz,temp),axis=1)  \n",
        "    \n",
        "    temp=q[:,0:2].reshape(n,2)\n",
        "    xyzq1q2=np.concatenate((xyz,temp),axis=1)  \n",
        "    \n",
        "    temp=q[:,0:3].reshape(n,3)\n",
        "    xyzq1q2q3=np.concatenate((xyz,temp),axis=1)   \n",
        "    \n",
        "    temp=q[:,0:4].reshape(n,4)\n",
        "    xyzq1q2q3q4=np.concatenate((xyz,temp),axis=1)  \n",
        "    \n",
        "    temp=q[:,0:5].reshape(n,5)\n",
        "    xyzq1q2q3q4q5=np.concatenate((xyz,temp),axis=1) \n"
      ]
    },
    {
      "cell_type": "code",
      "execution_count": 87,
      "metadata": {
        "id": "JrZsnqmm0xOc"
      },
      "outputs": [],
      "source": [
        "def generate_validation_dataset():\n",
        "    global q_validation,xyz_validation\n",
        "    q_validation=np.zeros((n_validation,6))\n",
        "    xyz_validation=np.zeros((n_validation,3))\n",
        "    \n",
        "    for i in range(n_validation):\n",
        "      q1=angle_range*random.random()-(pi/4)\n",
        "      q_validation[i,0]=q1\n",
        "      q2=angle_range*random.random()\n",
        "      q_validation[i,1]=q2\n",
        "      q3=angle_range*random.random()\n",
        "      q_validation[i,2]=q3\n",
        "      q4=angle_range*random.random()\n",
        "      q_validation[i,3]=q4\n",
        "      q5=angle_range*random.random()\n",
        "      q_validation[i,4]=q5\n",
        "      q6=angle_range*random.random()\n",
        "      q_validation[i,5]=q6\n",
        "    \n",
        "      temp=dirKin(q1,q2,q3,q4,q5,q6)\n",
        "      xyz_validation[i,0]=temp[0]\n",
        "      xyz_validation[i,1]=temp[1]\n",
        "      xyz_validation[i,2]=temp[2]"
      ]
    },
    {
      "cell_type": "code",
      "execution_count": 88,
      "metadata": {
        "id": "QxL8irPU0ajE"
      },
      "outputs": [],
      "source": [
        "def generate_random_test_dataset():\n",
        "    global q_test,xyz_test\n",
        "    q_test=np.zeros((n_test,6))\n",
        "    xyz_test=np.zeros((n_test,3))\n",
        "    \n",
        "    for i in range(n_test):\n",
        "      q1=angle_range*random.random()-(pi/4)\n",
        "      q_test[i,0]=q1\n",
        "      q2=angle_range*random.random()\n",
        "      q_test[i,1]=q2\n",
        "      q3=angle_range*random.random()\n",
        "      q_test[i,2]=q3\n",
        "      q4=angle_range*random.random()\n",
        "      q_test[i,3]=q4\n",
        "      q5=angle_range*random.random()\n",
        "      q_test[i,4]=q5\n",
        "      q6=angle_range*random.random()\n",
        "      q_test[i,5]=q6\n",
        "    \n",
        "      temp=dirKin(q1,q2,q3,q4,q5,q6)\n",
        "      xyz_test[i,0]=temp[0]\n",
        "      xyz_test[i,1]=temp[1]\n",
        "      xyz_test[i,2]=temp[2]"
      ]
    },
    {
      "cell_type": "code",
      "execution_count": 89,
      "metadata": {
        "id": "zgWU9VB4hTWB"
      },
      "outputs": [],
      "source": [
        "#print(\"Test\")\n",
        "#print(q)\n",
        "#print('----------------')\n",
        "#print(xyz)"
      ]
    },
    {
      "cell_type": "markdown",
      "metadata": {
        "id": "KdB4xI83zWlZ"
      },
      "source": [
        "RANDOM FOREST"
      ]
    },
    {
      "cell_type": "code",
      "execution_count": 90,
      "metadata": {
        "id": "sLl5Viu4zc4T"
      },
      "outputs": [],
      "source": [
        "def grid_search_random_forest():\n",
        "    global H1,H2,H3,H4,H5,H6\n",
        "    param_grid = { \n",
        "            \"n_estimators\"      : [100],\n",
        "            \"max_features\"      : [\"auto\"],\n",
        "            \"min_samples_split\" : [10],\n",
        "            \"bootstrap\": [True, False],\n",
        "            }\n",
        "    MS1 = GridSearchCV(estimator = RandomForestRegressor(),param_grid = param_grid,cv=3)\n",
        "    MS2 = GridSearchCV(estimator = RandomForestRegressor(),param_grid = param_grid,cv=3)\n",
        "    MS3 = GridSearchCV(estimator = RandomForestRegressor(),param_grid = param_grid,cv=3)\n",
        "    MS4 = GridSearchCV(estimator = RandomForestRegressor(),param_grid = param_grid,cv=3)\n",
        "    MS5 = GridSearchCV(estimator = RandomForestRegressor(),param_grid = param_grid,cv=3)\n",
        "    MS6 = GridSearchCV(estimator = RandomForestRegressor(),param_grid = param_grid,cv=3)\n",
        "    \n",
        "    H1 = MS1.fit(xyz,q[:,0])\n",
        "    print(\"H1 ready\")\n",
        "    print(H1.best_params_)\n",
        "    H2 = MS2.fit(xyzq1,q[:,1])\n",
        "    print(\"H2 ready\")\n",
        "    print(H2.best_params_)\n",
        "    H3 = MS3.fit(xyzq1q2,q[:,2])\n",
        "    print(\"H3 ready\")\n",
        "    print(H3.best_params_)\n",
        "    H4 = MS4.fit(xyzq1q2q3,q[:,3])\n",
        "    print(\"H4 ready\")\n",
        "    print(H4.best_params_)\n",
        "    H5 = MS5.fit(xyzq1q2q3q4,q[:,4])\n",
        "    print(\"H5 ready\")\n",
        "    print(H5.best_params_)\n",
        "    H6 = MS6.fit(xyzq1q2q3q4q5,q[:,5])\n",
        "    print(\"H6 ready\")\n",
        "    print(H6.best_params_)"
      ]
    },
    {
      "cell_type": "code",
      "execution_count": 91,
      "metadata": {
        "id": "g-4gboojzntA"
      },
      "outputs": [],
      "source": [
        "def train_random_forest():\n",
        "    global M1,M2,M3,M4,M5,M6\n",
        "    M1=RandomForestRegressor(bootstrap=H1.best_params_['bootstrap'],\n",
        "                             max_features=H1.best_params_['max_features'],\n",
        "                             n_estimators=H1.best_params_['n_estimators'],\n",
        "                             min_samples_split=H1.best_params_['min_samples_split'],\n",
        "                             )\n",
        "    M2=RandomForestRegressor(bootstrap=H2.best_params_['bootstrap'],\n",
        "                             max_features=H2.best_params_['max_features'],\n",
        "                             n_estimators=H2.best_params_['n_estimators'],\n",
        "                             min_samples_split=H2.best_params_['min_samples_split'],\n",
        "                             )\n",
        "    M3=RandomForestRegressor(bootstrap=H3.best_params_['bootstrap'],\n",
        "                             max_features=H3.best_params_['max_features'],\n",
        "                             n_estimators=H3.best_params_['n_estimators'],\n",
        "                             min_samples_split=H3.best_params_['min_samples_split'],\n",
        "                             )\n",
        "    M4=RandomForestRegressor(bootstrap=H4.best_params_['bootstrap'],\n",
        "                             max_features=H4.best_params_['max_features'],\n",
        "                             n_estimators=H4.best_params_['n_estimators'],\n",
        "                             min_samples_split=H4.best_params_['min_samples_split'],\n",
        "                             )\n",
        "    M5=RandomForestRegressor(bootstrap=H5.best_params_['bootstrap'],\n",
        "                             max_features=H5.best_params_['max_features'],\n",
        "                             n_estimators=H5.best_params_['n_estimators'],\n",
        "                             min_samples_split=H5.best_params_['min_samples_split'],\n",
        "                             )\n",
        "    M6=RandomForestRegressor(bootstrap=H6.best_params_['bootstrap'],\n",
        "                             max_features=H6.best_params_['max_features'],\n",
        "                             n_estimators=H6.best_params_['n_estimators'],\n",
        "                             min_samples_split=H6.best_params_['min_samples_split'],\n",
        "                             )\n",
        "    \n",
        "    M1.fit(xyz,q[:,0])\n",
        "    M2.fit(xyzq1,q[:,1])\n",
        "    M3.fit(xyzq1q2,q[:,2])\n",
        "    M4.fit(xyzq1q2q3,q[:,3])\n",
        "    M5.fit(xyzq1q2q3q4,q[:,4])\n",
        "    M6.fit(xyzq1q2q3q4q5,q[:,5])\n",
        "    print(\"Training completed\")"
      ]
    },
    {
      "cell_type": "markdown",
      "metadata": {
        "id": "r1X3znmrIdlO"
      },
      "source": [
        "SVR"
      ]
    },
    {
      "cell_type": "code",
      "execution_count": 92,
      "metadata": {
        "id": "1QBhXkG1ZrLg"
      },
      "outputs": [],
      "source": [
        "def grid_search_svr():\n",
        "    \n",
        "    global H1,H2,H3,H4,H5,H6\n",
        "    param_grid = {'C':[100,1000,10000],\n",
        "        'kernel':     ['rbf'],\n",
        "        'gamma':      [ 'auto'],\n",
        "        'epsilon':    [0.001,0.01]}\n",
        "    MS1 = GridSearchCV(estimator = SVR(),param_grid = param_grid,cv=3)\n",
        "    MS2 = GridSearchCV(estimator = SVR(),param_grid = param_grid,cv=3)\n",
        "    MS3 = GridSearchCV(estimator = SVR(),param_grid = param_grid,cv=3)\n",
        "    MS4 = GridSearchCV(estimator = SVR(),param_grid = param_grid,cv=3)\n",
        "    MS5 = GridSearchCV(estimator = SVR(),param_grid = param_grid,cv=3)\n",
        "    MS6 = GridSearchCV(estimator = SVR(),param_grid = param_grid,cv=3)\n",
        "    \n",
        "    H1 = MS1.fit(xyz,q[:,0])\n",
        "    print(\"H1 ready\")\n",
        "    print(H1.best_params_)\n",
        "    H2 = MS2.fit(xyzq1,q[:,1])\n",
        "    print(\"H2 ready\")\n",
        "    print(H2.best_params_)\n",
        "    H3 = MS3.fit(xyzq1q2,q[:,2])\n",
        "    print(\"H3 ready\")\n",
        "    print(H3.best_params_)\n",
        "    H4 = MS4.fit(xyzq1q2q3,q[:,3])\n",
        "    print(\"H4 ready\")\n",
        "    print(H4.best_params_)\n",
        "    H5 = MS5.fit(xyzq1q2q3q4,q[:,4])\n",
        "    print(\"H5 ready\")\n",
        "    print(H5.best_params_)\n",
        "    H6 = MS6.fit(xyzq1q2q3q4q5,q[:,5])\n",
        "    print(\"H6 ready\")\n",
        "    print(H6.best_params_)"
      ]
    },
    {
      "cell_type": "code",
      "execution_count": 93,
      "metadata": {
        "id": "fugq8f9N0KBA"
      },
      "outputs": [],
      "source": [
        "def train_SVR_grid_search_best():\n",
        "    global M1,M2,M3,M4,M5,M6\n",
        "    M1 = SVR(C = H1.best_params_['C'],\n",
        "        kernel = H1.best_params_['kernel'],\n",
        "        gamma = H1.best_params_['gamma'],\n",
        "        epsilon = H1.best_params_['epsilon'])\n",
        "\n",
        "    M2 = SVR(C = H2.best_params_['C'],\n",
        "            kernel = H2.best_params_['kernel'],\n",
        "            gamma = H2.best_params_['gamma'],\n",
        "            epsilon = H2.best_params_['epsilon'])\n",
        "    \n",
        "    M3 = SVR(C = H3.best_params_['C'],\n",
        "            kernel = H3.best_params_['kernel'],\n",
        "            gamma = H3.best_params_['gamma'],\n",
        "            epsilon = H3.best_params_['epsilon'])\n",
        "    \n",
        "    M4 = SVR(C = H4.best_params_['C'],\n",
        "            kernel = H4.best_params_['kernel'],\n",
        "            gamma = H4.best_params_['gamma'],\n",
        "            epsilon = H4.best_params_['epsilon'])\n",
        "    \n",
        "    M5 = SVR(C = H5.best_params_['C'],\n",
        "            kernel = H5.best_params_['kernel'],\n",
        "            gamma = H5.best_params_['gamma'],\n",
        "            epsilon = H5.best_params_['epsilon'])\n",
        "    \n",
        "    M6 = SVR(C = H6.best_params_['C'],\n",
        "            kernel = H6.best_params_['kernel'],\n",
        "            gamma = H6.best_params_['gamma'],\n",
        "            epsilon = H6.best_params_['epsilon'])\n",
        "    \n",
        "    \n",
        "    M1.fit(xyz,q[:,0])\n",
        "    M2.fit(xyzq1,q[:,1])\n",
        "    M3.fit(xyzq1q2,q[:,2])\n",
        "    M4.fit(xyzq1q2q3,q[:,3])\n",
        "    M5.fit(xyzq1q2q3q4,q[:,4])\n",
        "    M6.fit(xyzq1q2q3q4q5,q[:,5])"
      ]
    },
    {
      "cell_type": "code",
      "execution_count": 94,
      "metadata": {
        "id": "Obe2XkxCzZQB"
      },
      "outputs": [],
      "source": [
        "def train_SVR_no_grid_search_best():\n",
        "    global M1,M2,M3,M4,M5,M6\n",
        "    Csvr=1000\n",
        "    gammasvr=1\n",
        "    epsilonsvr=0.01\n",
        "\n",
        "    M1 = SVR(C = Csvr,\n",
        "        kernel ='rbf',\n",
        "        gamma = gammasvr,\n",
        "        epsilon = epsilonsvr)\n",
        "\n",
        "    M2 = SVR(C = Csvr,\n",
        "            kernel ='rbf',\n",
        "            gamma = gammasvr,\n",
        "            epsilon = epsilonsvr)\n",
        "    \n",
        "    M3 = SVR(C = Csvr,\n",
        "            kernel = 'rbf',\n",
        "            gamma = gammasvr,\n",
        "            epsilon = epsilonsvr)\n",
        "    \n",
        "    M4 = SVR(C = Csvr,\n",
        "            kernel = 'rbf',\n",
        "            gamma = gammasvr,\n",
        "            epsilon = epsilonsvr)\n",
        "    \n",
        "    M5 = SVR(C = Csvr,\n",
        "            kernel = 'rbf',\n",
        "            gamma = gammasvr,\n",
        "            epsilon = epsilonsvr)\n",
        "    \n",
        "    M6 = SVR(C = Csvr,\n",
        "            kernel = 'rbf',\n",
        "            gamma = gammasvr,\n",
        "            epsilon = epsilonsvr)\n",
        "    \n",
        "    \n",
        "    M1.fit(xyz,q[:,0])\n",
        "    M2.fit(xyzq1,q[:,1])\n",
        "    M3.fit(xyzq1q2,q[:,2])\n",
        "    M4.fit(xyzq1q2q3,q[:,3])\n",
        "    M5.fit(xyzq1q2q3q4,q[:,4])\n",
        "    M6.fit(xyzq1q2q3q4q5,q[:,5])"
      ]
    },
    {
      "cell_type": "code",
      "execution_count": 95,
      "metadata": {
        "id": "9Agp_CumNeLo"
      },
      "outputs": [],
      "source": [
        "def train_svr_with_param_val_on_xyz():\n",
        "  global C_best,gamma_best,eps_best\n",
        "\n",
        "  M1 = SVR(C = C_best,\n",
        "        kernel = 'rbf',\n",
        "        gamma = 'auto',\n",
        "        epsilon = eps_best)\n",
        "\n",
        "  M2 = SVR(C = C_best,\n",
        "        kernel = 'rbf',\n",
        "        gamma = 'auto',\n",
        "        epsilon = eps_best)\n",
        "    \n",
        "  M3 = SVR(C = C_best,\n",
        "        kernel ='rbf',\n",
        "        gamma ='auto',\n",
        "        epsilon = eps_best)\n",
        "    \n",
        "  M4 = SVR(C = C_best,\n",
        "        kernel = 'rbf',\n",
        "        gamma = 'auto',\n",
        "        epsilon = eps_best)\n",
        "    \n",
        "  M5 = SVR(C = C_best,\n",
        "        kernel = 'rbf',\n",
        "        gamma = 'auto',\n",
        "        epsilon = eps_best)\n",
        "    \n",
        "  M6 = SVR(C = C_best,\n",
        "        kernel = 'rbf',\n",
        "        gamma = 'auto',\n",
        "        epsilon = eps_best)\n",
        "    \n",
        "    \n",
        "  M1.fit(xyz,q[:,0])\n",
        "  M2.fit(xyzq1,q[:,1])\n",
        "  M3.fit(xyzq1q2,q[:,2])\n",
        "  M4.fit(xyzq1q2q3,q[:,3])\n",
        "  M5.fit(xyzq1q2q3q4,q[:,4])\n",
        "  M6.fit(xyzq1q2q3q4q5,q[:,5])\n",
        "  print(\"C: \",C_best,\" gamma: \",gamma_best,\" epsilon: \",eps_best)"
      ]
    },
    {
      "cell_type": "code",
      "execution_count": 96,
      "metadata": {
        "id": "058djoj58N_K"
      },
      "outputs": [],
      "source": [
        "def generate_model_with_validation_on_xyz():\n",
        "    global M1,M2,M3,M4,M5,M6,C_best,gamma_best,eps_best\n",
        "    C_arr=[10,100,1000]\n",
        "    eps_arr=[0.001,0.01]\n",
        "    gamma_arr= [ 1,0.01]\n",
        "    \n",
        "    C_best=0\n",
        "    gamma_best=0\n",
        "    eps_best=0\n",
        "    \n",
        "    \n",
        "    e_tot_min=1000\n",
        "    for ic in range(len(C_arr)):\n",
        "        for ie in range(len(eps_arr)):\n",
        "            for ig in range(len(gamma_arr)):\n",
        "                M1 = SVR(C = C_arr[ic],\n",
        "                        kernel = 'rbf',\n",
        "                        gamma = gamma_arr[ig],\n",
        "                        epsilon = eps_arr[ie])\n",
        "                M2 = SVR(C = C_arr[ic],\n",
        "                        kernel = 'rbf',\n",
        "                        gamma = gamma_arr[ig],\n",
        "                        epsilon = eps_arr[ie])\n",
        "                M3 = SVR(C = C_arr[ic],\n",
        "                        kernel = 'rbf',\n",
        "                        gamma = gamma_arr[ig],\n",
        "                        epsilon = eps_arr[ie])\n",
        "                M4 = SVR(C = C_arr[ic],\n",
        "                        kernel = 'rbf',\n",
        "                        gamma = gamma_arr[ig],\n",
        "                        epsilon = eps_arr[ie])\n",
        "                M5 = SVR(C = C_arr[ic],\n",
        "                        kernel = 'rbf',\n",
        "                        gamma = gamma_arr[ig],\n",
        "                        epsilon = eps_arr[ie])\n",
        "                M6 = SVR(C = C_arr[ic],\n",
        "                        kernel = 'rbf',\n",
        "                        gamma = gamma_arr[ig],\n",
        "                        epsilon = eps_arr[ie])\n",
        "                M1.fit(xyz,q[:,0])\n",
        "                M2.fit(xyzq1,q[:,1])\n",
        "                M3.fit(xyzq1q2,q[:,2])\n",
        "                M4.fit(xyzq1q2q3,q[:,3])\n",
        "                M5.fit(xyzq1q2q3q4,q[:,4])\n",
        "                M6.fit(xyzq1q2q3q4q5,q[:,5])\n",
        "                \n",
        "                ex_tot=0\n",
        "                ex=0\n",
        "                \n",
        "                ey_tot=0\n",
        "                ey=0\n",
        "                \n",
        "                ez_tot=0\n",
        "                ez=0\n",
        "                \n",
        "                XYZ_predictions=np.zeros((n_validation,3))\n",
        "                \n",
        "                for i in range(n_validation):\n",
        "                  \n",
        "                  q_pred=predict(xyz_validation[i,:].reshape(1,-1))\n",
        "                  xyz_pred=dirKin(q_pred[0],q_pred[1],q_pred[2],q_pred[3],q_pred[4],q_pred[5])\n",
        "                  xyz_pred=xyz_pred[0:3]\n",
        "                  #XYZ_predictions[i,0]=xyz_pred[0]\n",
        "                  #XYZ_predictions[i,1]=xyz_pred[1]\n",
        "                  #XYZ_predictions[i,2]=xyz_pred[2]\n",
        "                \n",
        "                  ex=math.sqrt((xyz_pred[0]-xyz_validation[i,0])*(xyz_pred[0]-xyz_validation[i,0]))\n",
        "                  ey=math.sqrt((xyz_pred[1]-xyz_validation[i,1])*(xyz_pred[1]-xyz_validation[i,1]))\n",
        "                  ez=math.sqrt((xyz_pred[2]-xyz_validation[i,2])*(xyz_pred[2]-xyz_validation[i,2]))\n",
        "                \n",
        "                  ex_tot=ex_tot+ex\n",
        "                  ey_tot=ey_tot+ey\n",
        "                  ez_tot=ez_tot+ez\n",
        "                \n",
        "                  #print('xyz from predicted q: ',xyz_pred)\n",
        "                  #print('target xyz: ',xyz_test[i,:])\n",
        "                  #print('errors',ex,ey,ez)\n",
        "                  #print('-------------------------------------')\n",
        "                \n",
        "                \n",
        "                ex_mean=(ex_tot/n_validation)*1000\n",
        "                ey_mean=(ey_tot/n_validation)*1000\n",
        "                ez_mean=(ez_tot/n_validation)*1000\n",
        "                e_tot=(ex_mean+ey_mean+ez_mean)/3\n",
        "                \n",
        "                print('error: ',round(e_tot,3),\" mm  C:\",C_arr[ic],\"gammma:\",gamma_arr[ig],\"epsilon:\",eps_arr[ie])\n",
        "                \n",
        "                if(e_tot<e_tot_min):\n",
        "                    e_tot_min=e_tot\n",
        "                    print(\"\\n e_totMin:\",e_tot_min)\n",
        "                    gamma_best=gamma_arr[ig]\n",
        "                    C_best=C_arr[ic]\n",
        "                    eps_best=eps_arr[ie]\n",
        "                    print(\"gamma best:\",gamma_best)\n",
        "                    print(\"epsilon best:\",eps_best)\n",
        "                    print(\"C best:\",C_best)\n",
        "    \n",
        "    print(\"\\n e_totMin:\",e_tot_min)"
      ]
    },
    {
      "cell_type": "code",
      "source": [
        "def grid_search_svr_only_xyz():\n",
        "    \n",
        "    global H1,H2,H3,H4,H5,H6\n",
        "    param_grid = {'C':[10,100,1000],\n",
        "        'kernel':     ['rbf'],\n",
        "        'gamma':       [ 1,0.1,0.01],\n",
        "        'epsilon':    [0.001,0.01]}\n",
        "    MS1 = GridSearchCV(estimator = SVR(),param_grid = param_grid,cv=3)\n",
        "    MS2 = GridSearchCV(estimator = SVR(),param_grid = param_grid,cv=3)\n",
        "    MS3 = GridSearchCV(estimator = SVR(),param_grid = param_grid,cv=3)\n",
        "    MS4 = GridSearchCV(estimator = SVR(),param_grid = param_grid,cv=3)\n",
        "    MS5 = GridSearchCV(estimator = SVR(),param_grid = param_grid,cv=3)\n",
        "    MS6 = GridSearchCV(estimator = SVR(),param_grid = param_grid,cv=3)\n",
        "    \n",
        "    H1 = MS1.fit(xyz,q[:,0])\n",
        "    print(\"H1 ready\")\n",
        "    print(H1.best_params_)\n",
        "    H2 = MS2.fit(xyz,q[:,1])\n",
        "    print(\"H2 ready\")\n",
        "    print(H2.best_params_)\n",
        "    H3 = MS3.fit(xyz,q[:,2])\n",
        "    print(\"H3 ready\")\n",
        "    print(H3.best_params_)\n",
        "    H4 = MS4.fit(xyz,q[:,3])\n",
        "    print(\"H4 ready\")\n",
        "    print(H4.best_params_)\n",
        "    H5 = MS5.fit(xyz,q[:,4])\n",
        "    print(\"H5 ready\")\n",
        "    print(H5.best_params_)\n",
        "    H6 = MS6.fit(xyz,q[:,5])\n",
        "    print(\"H6 ready\")\n",
        "    print(H6.best_params_)"
      ],
      "metadata": {
        "id": "S4SM8QXOn5hL"
      },
      "execution_count": 97,
      "outputs": []
    },
    {
      "cell_type": "code",
      "source": [
        "def train_SVR_grid_search_best_only_xyz():\n",
        "    global M1,M2,M3,M4,M5,M6\n",
        "    M1 = SVR(C = H1.best_params_['C'],\n",
        "        kernel = H1.best_params_['kernel'],\n",
        "        gamma = H1.best_params_['gamma'],\n",
        "        epsilon = H1.best_params_['epsilon'])\n",
        "\n",
        "    M2 = SVR(C = H2.best_params_['C'],\n",
        "            kernel = H2.best_params_['kernel'],\n",
        "            gamma = H2.best_params_['gamma'],\n",
        "            epsilon = H2.best_params_['epsilon'])\n",
        "    \n",
        "    M3 = SVR(C = H3.best_params_['C'],\n",
        "            kernel = H3.best_params_['kernel'],\n",
        "            gamma = H3.best_params_['gamma'],\n",
        "            epsilon = H3.best_params_['epsilon'])\n",
        "    \n",
        "    M4 = SVR(C = H4.best_params_['C'],\n",
        "            kernel = H4.best_params_['kernel'],\n",
        "            gamma = H4.best_params_['gamma'],\n",
        "            epsilon = H4.best_params_['epsilon'])\n",
        "    \n",
        "    M5 = SVR(C = H5.best_params_['C'],\n",
        "            kernel = H5.best_params_['kernel'],\n",
        "            gamma = H5.best_params_['gamma'],\n",
        "            epsilon = H5.best_params_['epsilon'])\n",
        "    \n",
        "    M6 = SVR(C = H6.best_params_['C'],\n",
        "            kernel = H6.best_params_['kernel'],\n",
        "            gamma = H6.best_params_['gamma'],\n",
        "            epsilon = H6.best_params_['epsilon'])\n",
        "    \n",
        "    \n",
        "    M1.fit(xyz,q[:,0])\n",
        "    M2.fit(xyz,q[:,1])\n",
        "    M3.fit(xyz,q[:,2])\n",
        "    M4.fit(xyz,q[:,3])\n",
        "    M5.fit(xyz,q[:,4])\n",
        "    M6.fit(xyz,q[:,5])"
      ],
      "metadata": {
        "id": "_kDDYERXodiw"
      },
      "execution_count": 98,
      "outputs": []
    },
    {
      "cell_type": "markdown",
      "metadata": {
        "id": "oDBxydIw091d"
      },
      "source": [
        "MEAN ERROR"
      ]
    },
    {
      "cell_type": "code",
      "execution_count": 99,
      "metadata": {
        "id": "1FD4UIG761x4"
      },
      "outputs": [],
      "source": [
        "def predict(xyz_target):\n",
        "  q_pred1 = M1.predict(xyz_target)\n",
        "  xyzq1_target=np.concatenate((xyz_target,q_pred1.reshape(1, -1)),axis=1)\n",
        "\n",
        "  q_pred2 = M2.predict(xyzq1_target)\n",
        "  xyzq1q2_target=np.concatenate((xyzq1_target,q_pred2.reshape(1, -1)),axis=1)\n",
        "\n",
        "  q_pred3 = M3.predict(xyzq1q2_target)\n",
        "  xyzq1q2q3_target=np.concatenate((xyzq1q2_target,q_pred3.reshape(1, -1)),axis=1)\n",
        "\n",
        "  q_pred4 = M4.predict(xyzq1q2q3_target)\n",
        "  xyzq1q2q3q4_target=np.concatenate((xyzq1q2q3_target,q_pred4.reshape(1, -1)),axis=1)\n",
        "\n",
        "  q_pred5 = M5.predict(xyzq1q2q3q4_target)\n",
        "  xyzq1q2q3q4q5_target=np.concatenate((xyzq1q2q3q4_target,q_pred5.reshape(1, -1)),axis=1)\n",
        "\n",
        "  q_pred6 = M6.predict(xyzq1q2q3q4q5_target)\n",
        "\n",
        "  #pred_xyz=dirKin(q_pred1,q_pred2,q_pred3,q_pred4,q_pred5,q_pred6)\n",
        "  #print('q pred: ',q_pred1,q_pred2,q_pred3,q_pred4,q_pred5,q_pred6)\n",
        "  #print('target forward kinematics :',xyz_target)\n",
        "  #print('pred forward kinematics :',pred_xyz[0:3])\n",
        "  all_q = np.array([q_pred1,q_pred2,q_pred3,q_pred4,q_pred5,q_pred6])\n",
        "  return all_q"
      ]
    },
    {
      "cell_type": "code",
      "execution_count": 100,
      "metadata": {
        "id": "FWxTHbHm0_xF"
      },
      "outputs": [],
      "source": [
        "def compute_mean_error():\n",
        "    \n",
        "    global XYZ_predictions\n",
        "    ex_tot=0\n",
        "    ex=0\n",
        "    \n",
        "    ey_tot=0\n",
        "    ey=0\n",
        "    \n",
        "    ez_tot=0\n",
        "    ez=0\n",
        "    \n",
        "    XYZ_predictions=np.zeros((n_test,3))\n",
        "    \n",
        "    for i in range(n_test):\n",
        "      \n",
        "      #if i%(n_test/10)==0 and i!=0:\n",
        "      #    print(i*10/(n_test/10),\"% completed\")\n",
        "      q_pred=predict(xyz_test[i,:].reshape(1,-1))\n",
        "      xyz_pred=dirKin(q_pred[0],q_pred[1],q_pred[2],q_pred[3],q_pred[4],q_pred[5])\n",
        "      xyz_pred=xyz_pred[0:3]\n",
        "      XYZ_predictions[i,0]=xyz_pred[0]\n",
        "      XYZ_predictions[i,1]=xyz_pred[1]\n",
        "      XYZ_predictions[i,2]=xyz_pred[2]\n",
        "    \n",
        "      ex=math.sqrt((xyz_pred[0]-xyz_test[i,0])*(xyz_pred[0]-xyz_test[i,0]))\n",
        "      ey=math.sqrt((xyz_pred[1]-xyz_test[i,1])*(xyz_pred[1]-xyz_test[i,1]))\n",
        "      ez=math.sqrt((xyz_pred[2]-xyz_test[i,2])*(xyz_pred[2]-xyz_test[i,2]))\n",
        "    \n",
        "      ex_tot=ex_tot+ex\n",
        "      ey_tot=ey_tot+ey\n",
        "      ez_tot=ez_tot+ez\n",
        "\n",
        "      #print('xyz from predicted q: ',xyz_pred)\n",
        "      #print('target xyz: ',xyz_test[i,:])\n",
        "      #print('errors',ex,ey,ez)\n",
        "      #print('-------------------------------------')\n",
        "    \n",
        "    \n",
        "    ex_mean=(ex_tot/n_test)*1000\n",
        "    ey_mean=(ey_tot/n_test)*1000\n",
        "    ez_mean=(ez_tot/n_test)*1000\n",
        "    e_tot=(ex_mean+ey_mean+ez_mean)/3\n",
        "    \n",
        "    print('mean error along x: ',math.trunc(ex_mean),\" mm\")\n",
        "    print('mean error along y: ',math.trunc(ey_mean),\" mm\")\n",
        "    print('mean error along z: ',math.trunc(ez_mean),\" mm\")\n",
        "    print('\\n\\nmean error tot: ',round(e_tot,3),\" mm\")"
      ]
    },
    {
      "cell_type": "code",
      "execution_count": 101,
      "metadata": {
        "id": "5HETuJNA1JB1"
      },
      "outputs": [],
      "source": [
        "def compute_mean_error_on_q():\n",
        "    \n",
        "    XYZ_predictions=np.zeros((n_test,3))\n",
        "    err_vect=np.zeros((6,1))\n",
        "    for i in range(n_test):\n",
        "        \n",
        "      q_test_t=q_test[i,:].reshape(-1,1)\n",
        "      \n",
        "      \n",
        "      #if i%(n_test/10)==0 and i!=0:\n",
        "      #    print(i*10/(n_test/10),\"% completed\")\n",
        "      q_pred=predict(xyz_test[i,:].reshape(1,-1))\n",
        "      err_vect=err_vect+np.abs(q_pred-q_test_t)\n",
        "    \n",
        "    #print(\"q_pred\",q_pred)\n",
        "    #print(\"q_test\",q_test_t)\n",
        "    #print(\"difference\",q_pred-q_test_t)\n",
        "    #print(\"abs\",np.abs(q_pred-q_test_t))\n",
        "    #print(q_test_t)\n",
        "    #print(\"err_vect: \",(err_vect*180)/pi)\n",
        "    err_mean=err_vect/n_test\n",
        "    \n",
        "    print('mean error for each q\\n: ',(err_mean*180)/pi,\"deg\\n\")\n",
        "    err_mean=err_mean[0:5]\n",
        "    print(\"total mean \\n\",(np.mean(err_mean)*180)/pi,\"deg\\n\")"
      ]
    },
    {
      "cell_type": "code",
      "source": [
        "def find_big_error_q_small_xyz():\n",
        "    \n",
        "    XYZ_predictions=np.zeros((n_test,3))\n",
        "    err_vect=np.zeros((6,1))\n",
        "    for i in range(n_test):\n",
        "      q_pred=predict(xyz_test[i,:].reshape(1,-1))\n",
        "      xyz_pred=dirKin(q_pred[0],q_pred[1],q_pred[2],q_pred[3],q_pred[4],q_pred[5])\n",
        "      xyz_pred=xyz_pred[0:3]\n",
        "    \n",
        "      ex=math.sqrt((xyz_pred[0]-xyz_test[i,0])*(xyz_pred[0]-xyz_test[i,0]))\n",
        "      ey=math.sqrt((xyz_pred[1]-xyz_test[i,1])*(xyz_pred[1]-xyz_test[i,1]))\n",
        "      ez=math.sqrt((xyz_pred[2]-xyz_test[i,2])*(xyz_pred[2]-xyz_test[i,2]))  \n",
        "      q_test_t=q_test[i,:].reshape(-1,1)\n",
        "      e_t=(ex+ey+ez)/3\n",
        "      \n",
        "      \n",
        "      err_vect_q=np.abs(q_pred-q_test_t)\n",
        "\n",
        "      err_mean_q=np.mean(err_vect_q[0:5])\n",
        "\n",
        "      if(e_t*1000<10 and err_mean_q>0.5):\n",
        "          print(\"xyz test set: \",xyz_test[i,:].reshape(1,-1))\n",
        "          print(\"xyz predicted: \",xyz_pred)\n",
        "          print(\"q test set: \",q_test_t)\n",
        "          print(\"q predicted: \",q_pred)\n",
        "          print(\"errore su xyz: \",e_t)\n",
        "          print(\"errore su q: \",err_mean_q)\n",
        "\n",
        "    #print(\"q_pred\",q_pred)\n",
        "    #print(\"q_test\",q_test_t)\n",
        "    #print(\"difference\",q_pred-q_test_t)\n",
        "    #print(\"abs\",np.abs(q_pred-q_test_t))\n",
        "    #print(q_test_t)\n",
        "    #print(\"err_vect: \",(err_vect*180)/pi)\n",
        "    err_mean=err_vect/n_test\n",
        "    \n",
        "    print('mean error for each q\\n: ',(err_mean*180)/pi,\"deg\\n\")\n",
        "    err_mean=err_mean[0:5]\n",
        "    print(\"total mean \\n\",(np.mean(err_mean)*180)/pi,\"deg\\n\")"
      ],
      "metadata": {
        "id": "DBzhaHriFSYs"
      },
      "execution_count": 102,
      "outputs": []
    },
    {
      "cell_type": "code",
      "source": [
        "def predict_only_xyz(xyz_target):\n",
        "  q_pred1 = M1.predict(xyz_target)\n",
        "\n",
        "  q_pred2 = M2.predict(xyz_target)\n",
        "\n",
        "  q_pred3 = M3.predict(xyz_target)\n",
        "\n",
        "  q_pred4 = M4.predict(xyz_target)\n",
        "\n",
        "  q_pred5 = M5.predict(xyz_target)\n",
        "\n",
        "  q_pred6 = M6.predict(xyz_target)\n",
        "\n",
        "  #pred_xyz=dirKin(q_pred1,q_pred2,q_pred3,q_pred4,q_pred5,q_pred6)\n",
        "  #print('q pred: ',q_pred1,q_pred2,q_pred3,q_pred4,q_pred5,q_pred6)\n",
        "  #print('target forward kinematics :',xyz_target)\n",
        "  #print('pred forward kinematics :',pred_xyz[0:3])\n",
        "  all_q = np.array([q_pred1,q_pred2,q_pred3,q_pred4,q_pred5,q_pred6])\n",
        "  return all_q\n",
        "\n",
        "def compute_mean_error_only_xyz():\n",
        "    \n",
        "    global XYZ_predictions\n",
        "    ex_tot=0\n",
        "    ex=0\n",
        "    \n",
        "    ey_tot=0\n",
        "    ey=0\n",
        "    \n",
        "    ez_tot=0\n",
        "    ez=0\n",
        "    \n",
        "    XYZ_predictions=np.zeros((n_test,3))\n",
        "    \n",
        "    for i in range(n_test):\n",
        "      \n",
        "      #if i%(n_test/10)==0 and i!=0:\n",
        "      #    print(i*10/(n_test/10),\"% completed\")\n",
        "\n",
        "      q_pred=predict_only_xyz(xyz_test[i,:].reshape(1,-1))\n",
        "      xyz_pred=dirKin(q_pred[0],q_pred[1],q_pred[2],q_pred[3],q_pred[4],q_pred[5])\n",
        "      xyz_pred=xyz_pred[0:3]\n",
        "      XYZ_predictions[i,0]=xyz_pred[0]\n",
        "      XYZ_predictions[i,1]=xyz_pred[1]\n",
        "      XYZ_predictions[i,2]=xyz_pred[2]\n",
        "    \n",
        "      ex=math.sqrt((xyz_pred[0]-xyz_test[i,0])*(xyz_pred[0]-xyz_test[i,0]))\n",
        "      ey=math.sqrt((xyz_pred[1]-xyz_test[i,1])*(xyz_pred[1]-xyz_test[i,1]))\n",
        "      ez=math.sqrt((xyz_pred[2]-xyz_test[i,2])*(xyz_pred[2]-xyz_test[i,2]))\n",
        "    \n",
        "      ex_tot=ex_tot+ex\n",
        "      ey_tot=ey_tot+ey\n",
        "      ez_tot=ez_tot+ez\n",
        "    \n",
        "      #print('xyz from predicted q: ',xyz_pred)\n",
        "      #print('target xyz: ',xyz_test[i,:])\n",
        "      #print('errors',ex,ey,ez)\n",
        "      #print('-------------------------------------')\n",
        "    \n",
        "    \n",
        "    ex_mean=(ex_tot/n_test)*1000\n",
        "    ey_mean=(ey_tot/n_test)*1000\n",
        "    ez_mean=(ez_tot/n_test)*1000\n",
        "    e_tot=(ex_mean+ey_mean+ez_mean)/3\n",
        "    \n",
        "    print('mean error along x: ',math.trunc(ex_mean),\" mm\")\n",
        "    print('mean error along y: ',math.trunc(ey_mean),\" mm\")\n",
        "    print('mean error along z: ',math.trunc(ez_mean),\" mm\")\n",
        "    print('\\n\\nmean error tot: ',round(e_tot,3),\" mm\")\n",
        "\n"
      ],
      "metadata": {
        "id": "e9xwE30ftgEY"
      },
      "execution_count": 103,
      "outputs": []
    },
    {
      "cell_type": "markdown",
      "metadata": {
        "id": "p073nVk02ftB"
      },
      "source": [
        "PLOT"
      ]
    },
    {
      "cell_type": "code",
      "execution_count": 104,
      "metadata": {
        "id": "Q3q_ZSYa1gU_"
      },
      "outputs": [],
      "source": [
        "def plot():\n",
        "    \n",
        "    fig, ax1 = plt.subplots()\n",
        "    ax1.plot(XYZ_predictions[:,0],xyz_test[:,0],'bo')\n",
        "    ax1.plot([np.min(xyz_test[:,0]),np.max(xyz_test[:,0])],[np.min(xyz_test[:,0]),np.max(xyz_test[:,0])],'r')\n",
        "    ax1.set_title('X ERRORS')\n",
        "    \n",
        "    fig2, ax2 = plt.subplots()\n",
        "    ax2.plot(XYZ_predictions[:,1],xyz_test[:,1],'bo')\n",
        "    ax2.plot([np.min(xyz_test[:,1]),np.max(xyz_test[:,1])],[np.min(xyz_test[:,1]),np.max(xyz_test[:,1])],'r')\n",
        "    ax2.set_title('Y ERRORS')\n",
        "    \n",
        "    fig3, ax3 = plt.subplots()\n",
        "    ax3.plot(XYZ_predictions[:,2],xyz_test[:,2],'bo')\n",
        "    ax3.plot([np.min(xyz_test[:,2]),np.max(xyz_test[:,2])],[np.min(xyz_test[:,2]),np.max(xyz_test[:,2])],'r')\n",
        "    ax3.set_title('Z ERRORS')"
      ]
    },
    {
      "cell_type": "markdown",
      "metadata": {
        "id": "I_APh1Zf14Gv"
      },
      "source": [
        "MAIN"
      ]
    },
    {
      "cell_type": "code",
      "execution_count": 114,
      "metadata": {
        "colab": {
          "base_uri": "https://localhost:8080/",
          "height": 1000
        },
        "id": "hrI3GJre15hx",
        "outputId": "e123dbe4-8792-49d5-fada-49b23bf2084b"
      },
      "outputs": [
        {
          "output_type": "stream",
          "name": "stdout",
          "text": [
            "SVR validation with no grid search\n",
            "mean error for each q\n",
            ":  [[ 1.71153257]\n",
            " [ 6.33690786]\n",
            " [ 9.56663852]\n",
            " [29.0661322 ]\n",
            " [21.04847359]\n",
            " [41.12312185]] deg\n",
            "\n",
            "total mean \n",
            " 13.545936948653585 deg\n",
            "\n",
            "mean error along x:  12  mm\n",
            "mean error along y:  15  mm\n",
            "mean error along z:  16  mm\n",
            "\n",
            "\n",
            "mean error tot:  14.855  mm\n"
          ]
        },
        {
          "output_type": "execute_result",
          "data": {
            "application/vnd.google.colaboratory.intrinsic+json": {
              "type": "string"
            },
            "text/plain": [
              "'\\nprint(\"SVR only xyz\")\\ngrid_search_svr_only_xyz()\\ntrain_SVR_grid_search_best_only_xyz()\\ncompute_mean_error_only_xyz()\\nplot()\\n'"
            ]
          },
          "metadata": {},
          "execution_count": 114
        },
        {
          "output_type": "display_data",
          "data": {
            "image/png": "[encoded data removed]",
            "text/plain": [
              "<Figure size 432x288 with 1 Axes>"
            ]
          },
          "metadata": {
            "needs_background": "light"
          }
        },
        {
          "output_type": "display_data",
          "data": {
            "image/png": "[encoded data removed]",
            "text/plain": [
              "<Figure size 432x288 with 1 Axes>"
            ]
          },
          "metadata": {
            "needs_background": "light"
          }
        },
        {
          "output_type": "display_data",
          "data": {
            "image/png": "[encoded data removed]",
            "text/plain": [
              "<Figure size 432x288 with 1 Axes>"
            ]
          },
          "metadata": {
            "needs_background": "light"
          }
        }
      ],
      "source": [
        "\n",
        "n=500\n",
        "n_test=1000\n",
        "n_validation=1000\n",
        "generate_random_dataset()\n",
        "generate_validation_dataset()\n",
        "generate_random_test_dataset()\n",
        "\n",
        "\"\"\"\n",
        "print(\"random forest validation with grid search\")\n",
        "grid_search_random_forest()\n",
        "train_random_forest()\n",
        "compute_mean_error()\n",
        "plot()\n",
        "\n",
        "\n",
        "print(\"SVR validation on X,Y,Z\")\n",
        "generate_model_with_validation_on_xyz()\n",
        "train_svr_with_param_val_on_xyz()\n",
        "compute_mean_error_on_q()\n",
        "compute_mean_error()\n",
        "plot()\n",
        "\n",
        "\n",
        "print(\"SVR validation with grid search\")\n",
        "grid_search_svr()\n",
        "train_SVR_grid_search_best()\n",
        "compute_mean_error_on_q()\n",
        "compute_mean_error()\n",
        "plot()\n",
        "\n",
        "\"\"\"\n",
        "print(\"SVR validation with no grid search\")\n",
        "train_SVR_no_grid_search_best()\n",
        "compute_mean_error_on_q()\n",
        "compute_mean_error()\n",
        "plot()\n",
        "\n",
        "\"\"\"\n",
        "print(\"SVR only xyz\")\n",
        "grid_search_svr_only_xyz()\n",
        "train_SVR_grid_search_best_only_xyz()\n",
        "compute_mean_error_only_xyz()\n",
        "plot()\n",
        "\"\"\""
      ]
    },
    {
      "cell_type": "code",
      "execution_count": 106,
      "metadata": {
        "id": "jjcrdcg1rVIo",
        "colab": {
          "base_uri": "https://localhost:8080/"
        },
        "outputId": "5677a9d2-413d-46a3-e92c-238107de9ebd"
      },
      "outputs": [
        {
          "output_type": "stream",
          "name": "stdout",
          "text": [
            "starting q:  0.7853981633974483 1.5707963267948966 0.7853981633974483 0.7853981633974483 0.7853981633974483 0\n",
            "xyz target:  [ 0.6440364   0.52029271  2.40060209 -0.52990279  0.14697519 -1.8262917 ]\n",
            "q predicted [[ 0.68171501  0.90820816  1.15308547 -4.43544474  0.2856239   0.85017234]]\n",
            "xyz predicted [1.28367727 0.9806261  2.0117241 ]\n",
            "error:  [ 639.64087406  460.33338483 -388.87798669]\n"
          ]
        }
      ],
      "source": [
        "xyz=dirKin(pi/4, pi/2, pi/4, pi/4,  pi/4, 0)\n",
        "\n",
        "\n",
        "print(\"starting q: \",pi/4, pi/2, pi/4, pi/4,  pi/4, 0)\n",
        "\n",
        "#xyz=np.array([0.57429862, 1.18955221, 2.14162853])\n",
        "print(\"xyz target: \",xyz)\n",
        "\n",
        "q_pred=predict(xyz[0:3].reshape(1,-1))\n",
        "\n",
        "xyz_pred=dirKin(q_pred[0],q_pred[1],q_pred[2],q_pred[3],q_pred[4],q_pred[5])\n",
        "\n",
        "xyz_pred=xyz_pred[0:3]\n",
        "print(\"q predicted\", q_pred.reshape(1,-1))\n",
        "print(\"xyz predicted\", xyz_pred)\n",
        "print(\"error: \",(xyz_pred-xyz[0:3])*1000)\n"
      ]
    },
    {
      "cell_type": "code",
      "source": [
        "generate_random_test_dataset()\n",
        "compute_mean_error()\n",
        "plot()"
      ],
      "metadata": {
        "id": "YXMwX7zpD8dp",
        "colab": {
          "base_uri": "https://localhost:8080/",
          "height": 918
        },
        "outputId": "d35d4bd4-0561-4993-be45-0176f2151624"
      },
      "execution_count": 107,
      "outputs": [
        {
          "output_type": "stream",
          "name": "stdout",
          "text": [
            "mean error along x:  74  mm\n",
            "mean error along y:  56  mm\n",
            "mean error along z:  97  mm\n",
            "\n",
            "\n",
            "mean error tot:  76.358  mm\n"
          ]
        },
        {
          "output_type": "display_data",
          "data": {
            "image/png": "[encoded data removed]",
            "text/plain": [
              "<Figure size 432x288 with 1 Axes>"
            ]
          },
          "metadata": {
            "needs_background": "light"
          }
        },
        {
          "output_type": "display_data",
          "data": {
            "image/png": "[encoded data removed]",
            "text/plain": [
              "<Figure size 432x288 with 1 Axes>"
            ]
          },
          "metadata": {
            "needs_background": "light"
          }
        },
        {
          "output_type": "display_data",
          "data": {
            "image/png": "[encoded data removed]",
            "text/plain": [
              "<Figure size 432x288 with 1 Axes>"
            ]
          },
          "metadata": {
            "needs_background": "light"
          }
        }
      ]
    }
  ],
  "metadata": {
    "colab": {
      "collapsed_sections": [],
      "name": "ML assignment.ipynb",
      "provenance": [],
      "authorship_tag": "ABX9TyPt3Vys94Xp/lDavf5THCoC",
      "include_colab_link": true
    },
    "kernelspec": {
      "display_name": "Python 3",
      "name": "python3"
    },
    "language_info": {
      "name": "python"
    }
  },
  "nbformat": 4,
  "nbformat_minor": 0
}